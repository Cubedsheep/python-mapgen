{
 "cells": [
  {
   "cell_type": "markdown",
   "id": "f64b7856-9291-43ad-a933-c47a1ee88663",
   "metadata": {},
   "source": [
    "# Mapbox Stitcher"
   ]
  },
  {
   "cell_type": "markdown",
   "id": "7d8185a2-1943-4db8-b8cc-98ba77de50ac",
   "metadata": {},
   "source": [
    "This notebook contains tools to fetch tiles from mapbox, in a user-defined style, and stitch them together into 1 big map image"
   ]
  },
  {
   "cell_type": "markdown",
   "id": "babcb1d1-b1bb-489d-9c20-1a6f53991e34",
   "metadata": {},
   "source": [
    "### Usage"
   ]
  },
  {
   "cell_type": "markdown",
   "id": "eefc58d9-81c4-46e0-95d9-7bc5fd3b4dd0",
   "metadata": {},
   "source": [
    "1) Add a line in the file \"regions.csv\" like the examples with the parameters you want. For the correspondence between zoomlevel and scale, see: https://wiki.openstreetmap.org/wiki/Zoom_levels\n",
    "\n",
    "2) fill in your mapbox acces token and username (username is only needed for custom styles)\n",
    "\n",
    "3) in REGION_NAME: fille in the name you have given the region in the csv file\n",
    "\n",
    "4) go to the section \"Print out image info\", klick on the code cell. Then click in the topbar on \"run\", click \"run all obove selected cell\", hit ctrl+enter. This wil print out information about the map to be generated. your available RAM/10 is a save upper bound for the size of the map that will be generated.\n",
    "\n",
    "5) If the info is as expected, go to \"run\"->\"run selected cell and below\". This will fetch the tiles from the server and construct the map. Large maps can take while to download and stitch together!\n",
    "\n",
    "! watch out for warnings about tilesize, a rong tilesize leads to wrong metadata and coordinate transformations"
   ]
  },
  {
   "cell_type": "markdown",
   "id": "ee676e23-1f59-4de2-a56f-c3ea7b634534",
   "metadata": {},
   "source": [
    "Timing: generating a 27x18 tiles image, corresponding to 13824x9216 pixels or 127.40 Mpixel, takes about a minute with decent internet on a intel 7th gen i5 laptop. \n",
    "\n",
    "Memory usage: ~1.5GB\n",
    "\n",
    "Size output image: 54.1MB"
   ]
  },
  {
   "cell_type": "markdown",
   "id": "db8cc93e-171d-4d8c-b607-9274492eeef9",
   "metadata": {},
   "source": [
    "## ToDo\n",
    "\n",
    "This is also an oportunity to define tile resolution from user scope\n",
    "\n",
    "display region(s) of interest"
   ]
  },
  {
   "cell_type": "markdown",
   "id": "1e54e82d-732f-45b9-9384-7b0fbb86d2c5",
   "metadata": {
    "tags": []
   },
   "source": [
    "## Imports"
   ]
  },
  {
   "cell_type": "code",
   "execution_count": 1,
   "id": "848b7360-415e-4a72-9aec-050bbc8b5844",
   "metadata": {
    "tags": []
   },
   "outputs": [],
   "source": [
    "# numpy for array manipulations\n",
    "import numpy as np\n",
    "# the workhorse, provides routines to download tiles and do some\n",
    "# coordinate transforms\n",
    "import cartopy.io.img_tiles as cartotiles\n",
    "# image manipulating and saving\n",
    "from PIL import Image\n",
    "# polygons to define regions\n",
    "from shapely.geometry.polygon import Polygon\n",
    "# more coordinate support\n",
    "import globalmaptiles as gmaptiles\n",
    "# for working with metadata in csv\n",
    "import pandas as pd\n",
    "# for parallel downloads\n",
    "import concurrent.futures\n",
    "# for inline plotting\n",
    "import matplotlib.pyplot as plt"
   ]
  },
  {
   "cell_type": "markdown",
   "id": "215c6c3c-821b-4ae4-9aa4-9d293a0537d7",
   "metadata": {},
   "source": [
    "## Global variables\n",
    "This should be the only variables you need to change to generate a different map, unless you need more in-depth modifications. Changes to these maps should be handled as much as possible by changing the mapbox style, or doing postprocessing on the resulting image"
   ]
  },
  {
   "cell_type": "code",
   "execution_count": 14,
   "id": "7ddb527a-41f5-4830-9123-cdf05c5d6ea7",
   "metadata": {},
   "outputs": [],
   "source": [
    "# acces token for mapbox\n",
    "TOKEN = \"FILL IN ACCES TOKEN\"\n",
    "# username corresponding to token, only needed for private styles\n",
    "USER = \"FILL IN USERNAME\"\n",
    "\n",
    "# descriptive name for region of interest, used to fetch map info from regions.csv\n",
    "REGION_NAME = \"ExampleOutdoors\"\n",
    "\n",
    "# if you intend to print the map, set the DPI value to get the physical size of the image\n",
    "DPI = 200\n",
    "# size in pixels of 1 tile. Default is 256 for custom styles, unless you did \"louche aanpassing\" in the sourcecode of cartopy, \n",
    "# and for satellite data the default is 256 as well. Otherwise, use 512\n",
    "TILESIZE = 512\n",
    "\n",
    "# you shouldn't need to change these ;)\n",
    "CM_PER_INCH = 2.54\n",
    "EARTH_CIRCUMFERENCE = 40_075_016.686   # meter\n",
    "SEP = \";\""
   ]
  },
  {
   "cell_type": "code",
   "execution_count": 3,
   "id": "5f4d397c-f426-4e42-b341-e15f729d6578",
   "metadata": {},
   "outputs": [],
   "source": [
    "regionfile = pd.read_csv(\"regions.csv\", sep=SEP)\n",
    "regionfile = regionfile.set_index(\"Region\")\n",
    "\n",
    "MAP_PARAMS = regionfile.loc[REGION_NAME]\n",
    "ZOOM = int(MAP_PARAMS[\"ZoomLevel\"])\n",
    "LON = (MAP_PARAMS[\"LonMin\"], MAP_PARAMS[\"LonMax\"])\n",
    "LAT = (MAP_PARAMS[\"LatMin\"], MAP_PARAMS[\"LatMax\"])\n",
    "STYLE_NAME = MAP_PARAMS[\"StyleName\"]\n",
    "STYLE_ID = MAP_PARAMS[\"StyleID\"]\n",
    "CUSTOM_TILESET = MAP_PARAMS[\"CustomTileset\"]\n",
    "GOOGLE_TILES = MAP_PARAMS[\"GoogleTiles\"]  # useful for satellite data, mapbox satellite tends to 404 when not used in custom style\n",
    "FOLDER = MAP_PARAMS[\"Folder\"]"
   ]
  },
  {
   "cell_type": "markdown",
   "id": "93c4d375-eee4-4cc6-a4ad-73f353ff750b",
   "metadata": {
    "tags": []
   },
   "source": [
    "## local helper functions"
   ]
  },
  {
   "cell_type": "code",
   "execution_count": 4,
   "id": "885e7526-04f3-43f4-a97d-73a0a143d0e7",
   "metadata": {
    "tags": []
   },
   "outputs": [],
   "source": [
    "def tile_coords(lon, lat, zoom):\n",
    "    \"\"\" \n",
    "    Converts a lat, lon coordinate to the (x,y,z) coordinates\n",
    "    of the tile containing lat, lon at the given zoom level\n",
    "    for calculations, see: https://wiki.openstreetmap.org/wiki/Slippy_map_tilenames\n",
    "    \n",
    "    Parameters\n",
    "    ----------\n",
    "    lon (float):\n",
    "        The longitude of the point in degrees (decimal)\n",
    "    lat (float):\n",
    "        The latitude of the point in degrees (decimal), between -85.0511 and +85.0511\n",
    "    zoom (int):\n",
    "        The zoom level, should be between 0 and 22 for mapbox, 0 and 18 for Openstreetmap\n",
    "        \n",
    "    Returns\n",
    "    -------\n",
    "    slipmapcoordinates (Tuple):\n",
    "        Tuple (x,y,z) of ints corresponding to the tile coordinates on a slipmap at zoom level z\n",
    "    \"\"\"\n",
    "    # conversion factors\n",
    "    DEG_TO_RAD = np.pi/180\n",
    "    n = 2**zoom\n",
    "    \n",
    "    xtile = n * ((lon+180)/360)\n",
    "    ytile = n * (1 - (np.log(np.tan(lat*DEG_TO_RAD) + 1/np.cos(lat*DEG_TO_RAD))/np.pi))/2\n",
    "    \n",
    "    return (int(np.floor(xtile)), int(np.floor(ytile)), zoom)\n",
    "\n",
    "def area_tiles(lon1, lat1, lon2, lat2, zoom):\n",
    "    \"\"\" \n",
    "    Calculates the (x,y,z) coordinates of all tiles overlapping with the rectangle\n",
    "    definide by (lon1,lat1), (lon2,lat2) at zoom level zoom\n",
    "    \n",
    "    Parameters\n",
    "    lon1, lon2 (float):\n",
    "        longitude of coordinates defining rectangle in degrees\n",
    "    lat1, lat2 (float):\n",
    "        latitiude of coordinates defining rectangle in degrees\n",
    "    zoom (int):\n",
    "        zoomlevel\n",
    "    \"\"\"\n",
    "    lon_min = min(lon1,lon2)\n",
    "    lon_max = max(lon1,lon2)\n",
    "    lat_min = min(lat1,lat2)\n",
    "    lat_max = max(lat1,lat2)\n",
    "    \n",
    "    # get tile coordinates for (min,min) and (max,max)\n",
    "    # coordinates start from north pole!\n",
    "    x_min, y_min, z = tile_coords(lon_min, lat_max, zoom)\n",
    "    x_max, y_max, z = tile_coords(lon_max, lat_min, zoom)\n",
    "    \n",
    "    # construct all tile coords and collect them in matrix\n",
    "    x_coords = np.arange(x_min, x_max+1, 1)\n",
    "    y_coords = np.arange(y_min, y_max+1, 1)\n",
    "    \n",
    "    return (x_coords, y_coords)\n",
    "\n",
    "def download_tiles(x_coords, y_coords, zoom):\n",
    "    \"\"\" \n",
    "    Downloads tiles in bbox determined by area_tiles\n",
    "    \"\"\"\n",
    "    # fetch all tiles\n",
    "    tiles = []\n",
    "    tile_imgs = []\n",
    "    print(\"rows: %d\" %len(y_coords))\n",
    "    print(\"tiles per row: %d\" %len(x_coords))\n",
    "    for y_coord in y_coords:\n",
    "        row = []\n",
    "        row_imgs = []\n",
    "        print(\"row: %d\" %(y_coord-y_coords[0]+1))\n",
    "        for x_coord in x_coords:\n",
    "            tile = maptiles.get_image((x_coord, y_coord, zoom))\n",
    "            tile_img = tile[0]\n",
    "            row.append(tile)\n",
    "            row_imgs.append(tile_img)\n",
    "        tiles.append(row)\n",
    "        tile_imgs.append(row_imgs)\n",
    "        \n",
    "    return (tiles, tile_imgs)\n",
    "    \n",
    "def stitch_image(tile_imgs):\n",
    "    \"\"\" \n",
    "    stitches tiles downloaded by download_tiles together into 1 big map\n",
    "    \"\"\"\n",
    "    # stitch image together\n",
    "    rows = len(tile_imgs)\n",
    "    columns = len(tile_imgs[0])\n",
    "    tile_size = tile_imgs[0][0].size[0]\n",
    "\n",
    "    # create new, empty, image\n",
    "    big_img = Image.new(\"RGB\", (columns*tile_size, rows*tile_size))\n",
    "\n",
    "    # fill in the image\n",
    "    for row in range(rows):\n",
    "        for column in range(columns):\n",
    "            big_img.paste(tile_imgs[row][column], box=(column*tile_size, row*tile_size))\n",
    "    \n",
    "    return big_img"
   ]
  },
  {
   "cell_type": "code",
   "execution_count": 5,
   "id": "334fc503-9a6f-4288-bdc3-a702f1be55dd",
   "metadata": {
    "tags": []
   },
   "outputs": [],
   "source": [
    "# fetches all tiles for a given domain\n",
    "\n",
    "# copied from sourcefile because the image stitcher stitches tiles together wrongly, mapboxtiles have NO overlap\n",
    "\n",
    "def images_for_domain(maptilesinstance, target_domain, target_z):\n",
    "    tiles = []\n",
    "\n",
    "    def fetch_tile(tile):\n",
    "        try:\n",
    "            img, extent, origin = maptilesinstance.get_image(tile)\n",
    "        except OSError:\n",
    "            # Some services 404 for tiles that aren't supposed to be\n",
    "            # there (e.g. out of range).\n",
    "            raise\n",
    "        img = np.array(img)\n",
    "        #x = np.linspace(extent[0], extent[1], img.shape[1])\n",
    "        #y = np.linspace(extent[2], extent[3], img.shape[0])\n",
    "        return img, tile, origin\n",
    "\n",
    "    with concurrent.futures.ThreadPoolExecutor(\n",
    "            max_workers=maptiles._MAX_THREADS) as executor:\n",
    "        futures = []\n",
    "        for tile in maptilesinstance.find_images(target_domain, target_z):\n",
    "            futures.append(executor.submit(fetch_tile, tile))\n",
    "        for future in concurrent.futures.as_completed(futures):\n",
    "            try:\n",
    "                img, tile, origin = future.result()\n",
    "                tiles.append([img, tile, origin])\n",
    "            except OSError:\n",
    "                pass\n",
    "\n",
    "    return tiles\n",
    "\n",
    "# function to merge the tiles recieved from images_for_domain\n",
    "def merge_tiles(tiles, image_pixel_size, area_tile_coords):\n",
    "    img = np.zeros((image_pixel_size[1], image_pixel_size[0], 3),np.uint8)\n",
    "    origin = (area_tile_coords[0][0], area_tile_coords[1][0])\n",
    "\n",
    "    for tile in tiles:\n",
    "        # get the tilecoords in the map:\n",
    "        mtc = (tile[1][0]-origin[0], tile[1][1]-origin[1])\n",
    "        # get the pixel coords of the upperleft pixel\n",
    "        ptc = (mtc[0]*TILESIZE, mtc[1]*TILESIZE)\n",
    "        #print(ptc)\n",
    "        # fill in the image, array is transpose of xy-coords for maptiles!\n",
    "        img[ptc[1]:ptc[1]+TILESIZE,ptc[0]:ptc[0]+TILESIZE] = tile[0]\n",
    "    \n",
    "    return img"
   ]
  },
  {
   "cell_type": "markdown",
   "id": "595f7664-55ef-4208-822c-d72f7e33e5f1",
   "metadata": {
    "tags": []
   },
   "source": [
    "## calculate extra global variable from user input"
   ]
  },
  {
   "cell_type": "code",
   "execution_count": 6,
   "id": "0ad438a1-d154-4f51-b4a8-6c74282557ef",
   "metadata": {
    "tags": []
   },
   "outputs": [],
   "source": [
    "# instance to download tiles\n",
    "if CUSTOM_TILESET:\n",
    "    maptiles = cartotiles.MapboxStyleTiles(TOKEN, USER, STYLE_ID, cache=False)\n",
    "elif GOOGLE_TILES:\n",
    "    # google also provide the styles \"street\", \"terrain\" and \"only_street\", see: https://scitools.org.uk/cartopy/docs/latest/reference/generated/cartopy.io.img_tiles.GoogleTiles.html#cartopy.io.img_tiles.GoogleTiles\n",
    "    maptiles = cartotiles.GoogleTiles(style=STYLE_ID)\n",
    "else:\n",
    "    maptiles = cartotiles.MapboxTiles(TOKEN, STYLE_ID)\n",
    "    \n",
    "# coordinate transform instance\n",
    "map_coords = gmaptiles.GlobalMercator(tileSize=512)\n",
    "# constant\n",
    "PIXEL_SCALE_EQUATOR = EARTH_CIRCUMFERENCE/(2**ZOOM*TILESIZE)  # meter/pixel\n",
    "\n",
    "# construct polygon of area\n",
    "corners = [(LON[0], LAT[0]), (LON[0], LAT[1]), (LON[1], LAT[1]), (LON[1], LAT[0])]\n",
    "area = Polygon([ (np.mean(maptiles.tile_bbox(*tile_coords(*corner, ZOOM))[0]), np.mean(maptiles.tile_bbox(*tile_coords(*corner, ZOOM))[1]) ) for corner in corners])\n",
    "# find all tiles intersecting the polygon\n",
    "area_tile_coords = area_tiles(LON[0], LAT[0], LON[1], LAT[1], ZOOM)\n",
    "# set the origin of \n",
    "\n",
    "# get extent of map in different coordinate systems\n",
    "# extend in tile-ids\n",
    "extent_tile_id = [area_tile_coords[0][0], area_tile_coords[0][-1],\n",
    "                  area_tile_coords[1][0], area_tile_coords[1][-1]]\n",
    "\n",
    "# extent in pseudo-mercator coordinates\n",
    "extent1 = maptiles.tile_bbox(*tile_coords(LON[0],LAT[0],ZOOM))\n",
    "extent2 = maptiles.tile_bbox(*tile_coords(LON[1],LAT[1],ZOOM))\n",
    "meterx = np.concatenate([extent1[0], extent2[0]])\n",
    "metery = np.concatenate([extent1[1], extent2[1]])\n",
    "\n",
    "extent_pseudo_mercator = (min(meterx), max(meterx),\n",
    "                          min(metery), max(metery))\n",
    "del extent1, extent2, meterx, metery\n",
    "\n",
    "# extent in lat-lon degrees\n",
    "lat_min, lon_min = map_coords.MetersToLatLon(extent_pseudo_mercator[0], extent_pseudo_mercator[2])\n",
    "lat_max, lon_max = map_coords.MetersToLatLon(extent_pseudo_mercator[1], extent_pseudo_mercator[3])\n",
    "extent_lat_lon = (lat_min, lat_max, lon_min, lon_max)\n",
    "del lat_min, lon_min, lat_max, lon_max\n",
    "\n",
    "# extent in pixels\n",
    "min_point = (map_coords.MetersToPixels(extent_pseudo_mercator[0], extent_pseudo_mercator[2], ZOOM))\n",
    "max_point = (map_coords.MetersToPixels(extent_pseudo_mercator[1], extent_pseudo_mercator[3], ZOOM))\n",
    "\n",
    "map_pixel_extent = (int(min_point[0]), int(max_point[0]), int(min_point[1]), int(max_point[1]))\n",
    "map_pixel_origin = (int(min_point[0]), int(min_point[1]))\n",
    "# cleanup\n",
    "del min_point, max_point"
   ]
  },
  {
   "cell_type": "markdown",
   "id": "ec00be72-fed3-43ea-b353-47ade7feebe3",
   "metadata": {},
   "source": [
    "calculate image info to show to user"
   ]
  },
  {
   "cell_type": "code",
   "execution_count": 7,
   "id": "0988893a-88fc-4141-8dba-8c8bf3123507",
   "metadata": {},
   "outputs": [],
   "source": [
    "# precalculate the size of the resulting image in pixels\n",
    "image_pixel_size = (len(area_tile_coords[0])*TILESIZE,\n",
    "                    len(area_tile_coords[1])*TILESIZE)\n",
    "\n",
    "# calculate the scale of the image (top and bottom, in meter/pixel)\n",
    "pixel_scale_bottom = np.cos(LAT[0]*np.pi/180)*PIXEL_SCALE_EQUATOR\n",
    "pixel_scale_top = np.cos(LAT[1]*np.pi/180)*PIXEL_SCALE_EQUATOR\n",
    "\n",
    "# calculate the physical size of the image\n",
    "image_phys_size = (image_pixel_size[0]/DPI*CM_PER_INCH,image_pixel_size[1]/DPI*CM_PER_INCH)\n",
    "\n",
    "# calculate how much larger the actual geographical area displayed is\n",
    "point0 = map_coords.LatLonToMeters(LAT[0],LON[0])\n",
    "point1 = map_coords.LatLonToMeters(LAT[1],LON[1])\n",
    "# area of region of interest in square meters (map coordinates)\n",
    "meter_area_of_interest = (point1[0]-point0[0])*(point1[1]-point0[1])\n",
    "# actual area covered by map (square meters, map coordinates)\n",
    "meter_area_mapped = (extent_pseudo_mercator[1]-extent_pseudo_mercator[0])*\\\n",
    "                    (extent_pseudo_mercator[3]-extent_pseudo_mercator[2])\n",
    "# calculate ratio\n",
    "surplus_area = 1-meter_area_of_interest/meter_area_mapped\n",
    "del point0, point1"
   ]
  },
  {
   "cell_type": "markdown",
   "id": "95805654-3a5e-4d07-b101-4095f9fc0b2b",
   "metadata": {},
   "source": [
    "## Print out image info"
   ]
  },
  {
   "cell_type": "code",
   "execution_count": 8,
   "id": "911fd30f-db74-468a-9b00-596e4c867045",
   "metadata": {},
   "outputs": [
    {
     "name": "stdout",
     "output_type": "stream",
     "text": [
      "------ SIZE ------\n",
      "\n",
      "Size of resulting image will be (in pixels): \n",
      "width: 3584\n",
      "height: 3072\n",
      "yielding a 11.01 Megapixel image\n",
      "\n",
      "When printed in a resolution of 200.0 DPI, the physical size of this print in cm is:\n",
      "width: 45.52\n",
      "height: 39.01\n",
      "yielding a 0.178 m^2 print\n",
      "\n",
      "The scale of the map in meter/pixel is:\n",
      "top: 6.467 \n",
      "bottom: 6.484\n",
      "\n",
      "-----COVERAGE-------\n",
      "\n",
      "The actual geographical area covered ranges is between:\n",
      "lat: 47.249407° - 47.428087°\n",
      "lon: 8.437500° - 8.745117°\n",
      "This leads to a map that is 34.65% bigger than the region of interest\n"
     ]
    }
   ],
   "source": [
    "description = \"------ SIZE ------\\n\\n\"\n",
    "description += \"\"\"Size of resulting image will be (in pixels): \n",
    "width: %d\n",
    "height: %d\n",
    "yielding a %.2f Megapixel image\\n\\n\"\"\" %(image_pixel_size[0],image_pixel_size[1],\n",
    "                                     image_pixel_size[0]*image_pixel_size[1]/10**6)\n",
    "\n",
    "description += \"\"\"When printed in a resolution of %.1f DPI, the physical size of this print in cm is:\n",
    "width: %.2f\n",
    "height: %.2f\n",
    "yielding a %.3f m^2 print\\n\\n\"\"\" %(DPI,image_phys_size[0],image_phys_size[1],\n",
    "                                   image_phys_size[0]*image_phys_size[1]/10**4)\n",
    "description += \"\"\"The scale of the map in meter/pixel is:\n",
    "top: %.3f \n",
    "bottom: %.3f\\n\\n\"\"\" %(pixel_scale_top, pixel_scale_bottom)\n",
    "\n",
    "description += \"-----COVERAGE-------\\n\\n\"\n",
    "description += \"\"\"The actual geographical area covered ranges is between:\n",
    "lat: %.6f° - %.6f°\n",
    "lon: %.6f° - %.6f°\\n\"\"\" %extent_lat_lon\n",
    "description += \"This leads to a map that is %.2f%s bigger than the region of interest\" %(100*surplus_area,\"%\")\n",
    "print(description)"
   ]
  },
  {
   "cell_type": "markdown",
   "id": "456119de-aa8e-496c-b5d8-66574c013121",
   "metadata": {
    "tags": []
   },
   "source": [
    "## download and save the image"
   ]
  },
  {
   "cell_type": "code",
   "execution_count": 9,
   "id": "de257d40-0a34-4ce7-bd97-8584350fe603",
   "metadata": {},
   "outputs": [],
   "source": [
    "# download the tiles\n",
    "tiles = images_for_domain(maptiles, area, ZOOM)\n",
    "# fix tilesize in case it was wrong\n",
    "actual_tilesize = np.shape(tiles[0][0])[0]\n",
    "if actual_tilesize != TILESIZE:\n",
    "    print(\"WARNING: TILESIZE defined in General Parameters does not match tilesize recieved from server.\")\n",
    "    print(\"actual tilesize is: %d\"%actual_tilesize)\n",
    "    print(\"consider running the notebook again with the right tilesize to generate correct metadata\")\n",
    "    TILESIZE = actual_tilesize"
   ]
  },
  {
   "cell_type": "code",
   "execution_count": 10,
   "id": "76c90fbd-f31f-4700-93a7-859e9e93a31b",
   "metadata": {},
   "outputs": [],
   "source": [
    "img = merge_tiles(tiles, image_pixel_size, area_tile_coords)"
   ]
  },
  {
   "cell_type": "code",
   "execution_count": 12,
   "id": "ef1ace84-21cf-4ef8-acd7-3b6f2e4b24c5",
   "metadata": {},
   "outputs": [],
   "source": [
    "PIL_image = Image.fromarray(img)\n",
    "PIL_image.save(\"%s/%s_%s_%s.png\"%(FOLDER, REGION_NAME, STYLE_NAME, ZOOM), \"png\")"
   ]
  },
  {
   "cell_type": "markdown",
   "id": "c0ee29db-c39f-41bd-be06-776ad8954e29",
   "metadata": {
    "tags": []
   },
   "source": [
    "## write map metadata to csv"
   ]
  },
  {
   "cell_type": "code",
   "execution_count": 13,
   "id": "3264d7b8-72d8-4c28-8a6c-05401f02c8fd",
   "metadata": {},
   "outputs": [],
   "source": [
    "COLUMNS = [\"MapName\", \"Region\", \"StyleName\", \"StyleID\", \"IsPrivateStyle\", \"user\", \n",
    "           \"LatMin\", \"LatMax\", \"LonMin\", \"LonMax\", \"Zoom\", \"TileSize\", \n",
    "           \"PixWidth\", \"PixHeight\", \"PixScaleTop\", \"PixScaleBottom\",\n",
    "           \"MeterXMin\", \"MeterXMax\", \"MeterYMin\", \"MeterYMax\",\n",
    "           \"MapLatMin\", \"MapLatMax\", \"MapLonMin\", \"MapLonMax\",\n",
    "           \"MapPixXMin\", \"MapPixXMax\", \"MapPixYMin\", \"MapPixYMax\",\n",
    "           \"SurplusArea\"]\n",
    "MAPNAME = \"%s_%s_%s\"%(REGION_NAME, STYLE_NAME, ZOOM)\n",
    "\n",
    "# try to open the csv in case it already exists\n",
    "try: \n",
    "    df = pd.read_csv(\"maps_metadata.csv\", sep=SEP)\n",
    "except:\n",
    "    # csv doesn't exist, create new dataframe\n",
    "    df = pd.DataFrame(columns=COLUMNS)\n",
    "df = df.set_index(\"MapName\")\n",
    "\n",
    "# check if this map is already in the csv\n",
    "if MAPNAME in df.index.values:\n",
    "    # drop the row\n",
    "    df = df.drop(MAPNAME)\n",
    "\n",
    "# create data array\n",
    "data = {\"MapName\": MAPNAME,\n",
    "        \"Region\" : REGION_NAME, \n",
    "        \"StyleName\" : STYLE_NAME, \n",
    "        \"StyleID\" : STYLE_ID, \n",
    "        \"IsPrivateStyle\" : CUSTOM_TILESET, \n",
    "        \"user\" : USER, \n",
    "        \"LatMin\" : LAT[0], \n",
    "        \"LatMax\" : LAT[1], \n",
    "        \"LonMin\" : LON[0], \n",
    "        \"LonMax\" : LON[1], \n",
    "        \"Zoom\" : ZOOM, \n",
    "        \"TileSize\" : TILESIZE, \n",
    "        \"PixWidth\" : image_pixel_size[0], \n",
    "        \"PixHeight\" : image_pixel_size[1], \n",
    "        \"PixScaleTop\" : pixel_scale_top, \n",
    "        \"PixScaleBottom\" : pixel_scale_bottom,\n",
    "        \"MeterXMin\" : extent_pseudo_mercator[0], \n",
    "        \"MeterXMax\" : extent_pseudo_mercator[1], \n",
    "        \"MeterYMin\" : extent_pseudo_mercator[2], \n",
    "        \"MeterYMax\" : extent_pseudo_mercator[3],\n",
    "        \"MapLatMin\" : extent_lat_lon[0], \n",
    "        \"MapLatMax\" : extent_lat_lon[1], \n",
    "        \"MapLonMin\" : extent_lat_lon[2], \n",
    "        \"MapLonMax\" : extent_lat_lon[3],\n",
    "        \"MapPixXMin\" : map_pixel_extent[0], \n",
    "        \"MapPixXMax\" : map_pixel_extent[1], \n",
    "        \"MapPixYMin\" : map_pixel_extent[2], \n",
    "        \"MapPixYMax\" : map_pixel_extent[3],\n",
    "        \"SurplusArea\" : surplus_area}#, \n",
    "        #\"description\" : description}\n",
    "\n",
    "# append data array\n",
    "#df = df.append(data, ignore_index=True)\n",
    "df.loc[data[\"MapName\"]] = [data[key] for key in COLUMNS[1:]]\n",
    "\n",
    "# write out csv\n",
    "df.to_csv(\"maps_metadata.csv\", sep=SEP)"
   ]
  }
 ],
 "metadata": {
  "kernelspec": {
   "display_name": "Python 3 (ipykernel)",
   "language": "python",
   "name": "python3"
  },
  "language_info": {
   "codemirror_mode": {
    "name": "ipython",
    "version": 3
   },
   "file_extension": ".py",
   "mimetype": "text/x-python",
   "name": "python",
   "nbconvert_exporter": "python",
   "pygments_lexer": "ipython3",
   "version": "3.10.1"
  }
 },
 "nbformat": 4,
 "nbformat_minor": 5
}
