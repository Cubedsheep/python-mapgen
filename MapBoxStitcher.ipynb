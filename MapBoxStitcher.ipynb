{
 "cells": [
  {
   "cell_type": "markdown",
   "id": "f64b7856-9291-43ad-a933-c47a1ee88663",
   "metadata": {},
   "source": [
    "# Mapbox Stitcher"
   ]
  },
  {
   "cell_type": "markdown",
   "id": "7d8185a2-1943-4db8-b8cc-98ba77de50ac",
   "metadata": {},
   "source": [
    "This notebook contains tools to fetch tiles from mapbox, in a user-defined style, and stitch them together into 1 big map image"
   ]
  },
  {
   "cell_type": "markdown",
   "id": "babcb1d1-b1bb-489d-9c20-1a6f53991e34",
   "metadata": {},
   "source": [
    "### Usage"
   ]
  },
  {
   "cell_type": "markdown",
   "id": "eefc58d9-81c4-46e0-95d9-7bc5fd3b4dd0",
   "metadata": {},
   "source": [
    "1) Add a line in the file \"regions.csv\" like the examples with the parameters you want. For the correspondence between zoomlevel and scale, see: https://wiki.openstreetmap.org/wiki/Zoom_levels\n",
    "\n",
    "2) fill in your mapbox acces token and username (username is only needed for custom styles)\n",
    "\n",
    "3) in REGION_NAME: fille in the name you have given the region in the csv file\n",
    "\n",
    "4) go to the section \"Print out image info\", klick on the code cell. Then click in the topbar on \"run\", click \"run all obove selected cell\", hit ctrl+enter. This wil print out information about the map to be generated. your available RAM/10 is a save upper bound for the size of the map that will be generated.\n",
    "\n",
    "5) If the info is as expected, go to \"run\"->\"run selected cell and below\". This will fetch the tiles from the server and construct the map. Large maps can take while to download and stitch together!\n",
    "\n",
    "! watch out for warnings about tilesize, a rong tilesize leads to wrong metadata and coordinate transformations"
   ]
  },
  {
   "cell_type": "markdown",
   "id": "ee676e23-1f59-4de2-a56f-c3ea7b634534",
   "metadata": {},
   "source": [
    "Timing: generating a 27x18 tiles image, corresponding to 13824x9216 pixels or 127.40 Mpixel, takes about a minute with decent internet on a intel 7th gen i5 laptop. \n",
    "\n",
    "Memory usage: ~1.5GB\n",
    "\n",
    "Size output image: 54.1MB"
   ]
  },
  {
   "cell_type": "markdown",
   "id": "1e54e82d-732f-45b9-9384-7b0fbb86d2c5",
   "metadata": {
    "tags": []
   },
   "source": [
    "## Imports"
   ]
  },
  {
   "cell_type": "code",
   "execution_count": 1,
   "id": "848b7360-415e-4a72-9aec-050bbc8b5844",
   "metadata": {
    "tags": []
   },
   "outputs": [],
   "source": [
    "# numpy for array manipulations\n",
    "import numpy as np\n",
    "# the workhorse, provides routines to download tiles and do some\n",
    "# coordinate transforms\n",
    "import cartopy.io.img_tiles as cartotiles\n",
    "# image manipulating and saving\n",
    "from PIL import Image\n",
    "# more coordinate support\n",
    "#import globalmaptiles as gmaptiles\n",
    "# for working with metadata in csv\n",
    "import pandas as pd\n",
    "\n",
    "# custom functions\n",
    "import tilemaptools as tmt"
   ]
  },
  {
   "cell_type": "markdown",
   "id": "215c6c3c-821b-4ae4-9aa4-9d293a0537d7",
   "metadata": {},
   "source": [
    "## Global variables\n",
    "This should be the only variables you need to change to generate a different map, unless you need more in-depth modifications. Changes to these maps should be handled as much as possible by changing the mapbox style, or doing postprocessing on the resulting image"
   ]
  },
  {
   "cell_type": "code",
   "execution_count": 1,
   "id": "7ddb527a-41f5-4830-9123-cdf05c5d6ea7",
   "metadata": {},
   "outputs": [],
   "source": [
    "# acces token for mapbox\n",
    "TOKEN = \"FILL IN ACCES TOKEN\"\n",
    "# username corresponding to token, only needed for private styles\n",
    "USER = \"FILL IN USERNAME\"\n",
    "\n",
    "# descriptive name for region of interest, used to fetch map info from regions.csv\n",
    "REGION_NAME = \"Belgie\"\n",
    "\n",
    "# if you intend to print the map, set the DPI value to get the physical size of the image\n",
    "DPI = 200\n",
    "# size in pixels of 1 tile. Default is 256 unless you did \"louche aanpassing\" in the sourcecode of cartopy\n",
    "TILESIZE = 512\n",
    "\n",
    "# you shouldn't need to change these ;)\n",
    "CM_PER_INCH = 2.54\n",
    "EARTH_CIRCUMFERENCE = 40_075_016.686   # meter\n",
    "SEP = \",\""
   ]
  },
  {
   "cell_type": "markdown",
   "id": "02e56454-28a7-4e46-90a2-504f9a713a7a",
   "metadata": {},
   "source": [
    "### Import map data from regions.csv"
   ]
  },
  {
   "cell_type": "code",
   "execution_count": 10,
   "id": "5f4d397c-f426-4e42-b341-e15f729d6578",
   "metadata": {
    "tags": []
   },
   "outputs": [],
   "source": [
    "regionfile = pd.read_csv(\"regions.csv\", sep=SEP)\n",
    "regionfile = regionfile.set_index(\"Region\")\n",
    "\n",
    "MAP_PARAMS = regionfile.loc[REGION_NAME]\n",
    "ZOOM = int(MAP_PARAMS[\"ZoomLevel\"])\n",
    "LON = (MAP_PARAMS[\"LonMin\"], MAP_PARAMS[\"LonMax\"])\n",
    "LAT = (MAP_PARAMS[\"LatMin\"], MAP_PARAMS[\"LatMax\"])\n",
    "STYLE_NAME = MAP_PARAMS[\"StyleName\"]\n",
    "STYLE_ID = MAP_PARAMS[\"StyleID\"]\n",
    "CUSTOM_TILESET = MAP_PARAMS[\"CustomTileset\"]\n",
    "FOLDER = MAP_PARAMS[\"Folder\"]\n",
    "\n",
    "# instance to download tiles\n",
    "if CUSTOM_TILESET:\n",
    "    maptiles = cartotiles.MapboxStyleTiles(TOKEN, USER, STYLE_ID, cache=False)\n",
    "else:\n",
    "    maptiles = cartotiles.MapboxTiles(TOKEN, STYLE_ID)"
   ]
  },
  {
   "cell_type": "markdown",
   "id": "595f7664-55ef-4208-822c-d72f7e33e5f1",
   "metadata": {
    "tags": []
   },
   "source": [
    "## calculate extra map metadata from user input and print image description"
   ]
  },
  {
   "cell_type": "code",
   "execution_count": 12,
   "id": "0be21188-233e-4e47-9717-4fafae25312b",
   "metadata": {},
   "outputs": [
    {
     "name": "stdout",
     "output_type": "stream",
     "text": [
      "------ SIZE ------\n",
      "\n",
      "Size of resulting image will be (in pixels): \n",
      "    width: 12288\n",
      "    height: 9728\n",
      "    yielding a 119.54 Megapixel image\n",
      "\n",
      "When printed in a resolution of 200.0 DPI, the physical size of this print in cm is:\n",
      "    width: 156.06\n",
      "    height: 123.55\n",
      "    yielding a 1.928 m^2 print\n",
      "\n",
      "The scale of the map in meter/pixel is:\n",
      "    top: 23.789 \n",
      "    bottom: 24.823\n",
      "\n",
      "-----COVERAGE-------\n",
      "\n",
      "The actual geographical area covered ranges is between:\n",
      "    lat: 49.382373° - 51.508742°\n",
      "    lon: 2.460937° - 6.679687°\n",
      "This leads to a map that is 11.11% bigger than the region of interest\n"
     ]
    }
   ],
   "source": [
    "meta = tmt.calculate_metadata(LAT, LON, ZOOM, maptiles, TILESIZE, DPI=DPI)\n",
    "print(meta[\"Description\"])"
   ]
  },
  {
   "cell_type": "markdown",
   "id": "456119de-aa8e-496c-b5d8-66574c013121",
   "metadata": {
    "tags": []
   },
   "source": [
    "## download and save the image"
   ]
  },
  {
   "cell_type": "code",
   "execution_count": 13,
   "id": "de257d40-0a34-4ce7-bd97-8584350fe603",
   "metadata": {},
   "outputs": [],
   "source": [
    "# download the tiles\n",
    "tiles = tmt.images_for_domain(maptiles, meta[\"AreaPolygon\"], ZOOM)\n",
    "\n",
    "# fix tilesize in case it was wrong\n",
    "actual_tilesize = np.shape(tiles[0][0])[0]\n",
    "if actual_tilesize != TILESIZE:\n",
    "    print(\"WARNING: TILESIZE defined in General Parameters does not match tilesize recieved from server.\")\n",
    "    print(\"actual tilesize is: %d\"%actual_tilesize)\n",
    "    print(\"consider running the notebook again with the right tilesize to generate correct metadata\")\n",
    "    TILESIZE = actual_tilesize"
   ]
  },
  {
   "cell_type": "code",
   "execution_count": 14,
   "id": "76c90fbd-f31f-4700-93a7-859e9e93a31b",
   "metadata": {},
   "outputs": [],
   "source": [
    "img = tmt.merge_tiles(tiles, meta[\"PixelSize\"], meta[\"AreaTiles\"], TILESIZE)"
   ]
  },
  {
   "cell_type": "code",
   "execution_count": 15,
   "id": "ef1ace84-21cf-4ef8-acd7-3b6f2e4b24c5",
   "metadata": {},
   "outputs": [],
   "source": [
    "PIL_image = Image.fromarray(img)\n",
    "PIL_image.save(\"%s/%s_%s_%s.png\"%(FOLDER, REGION_NAME, STYLE_NAME, ZOOM), \"png\")"
   ]
  },
  {
   "cell_type": "markdown",
   "id": "c0ee29db-c39f-41bd-be06-776ad8954e29",
   "metadata": {
    "tags": []
   },
   "source": [
    "## write map metadata to csv"
   ]
  },
  {
   "cell_type": "markdown",
   "id": "a2f46938-5a45-4368-b75b-61411ce38198",
   "metadata": {},
   "source": [
    "Necessary to create other layers for map like a heatlayer"
   ]
  },
  {
   "cell_type": "code",
   "execution_count": 16,
   "id": "3264d7b8-72d8-4c28-8a6c-05401f02c8fd",
   "metadata": {
    "tags": []
   },
   "outputs": [],
   "source": [
    "COLUMNS = [\"MapName\", \"Region\", \"StyleName\", \"StyleID\", \"IsPrivateStyle\", \"user\", \n",
    "           \"LatMin\", \"LatMax\", \"LonMin\", \"LonMax\", \"Zoom\", \"TileSize\", \n",
    "           \"PixWidth\", \"PixHeight\", \"PixScaleTop\", \"PixScaleBottom\",\n",
    "           \"MeterXMin\", \"MeterXMax\", \"MeterYMin\", \"MeterYMax\",\n",
    "           \"MapLatMin\", \"MapLatMax\", \"MapLonMin\", \"MapLonMax\",\n",
    "           \"MapPixXMin\", \"MapPixXMax\", \"MapPixYMin\", \"MapPixYMax\",\n",
    "           \"SurplusArea\"]\n",
    "MAPNAME = \"%s_%s_%s\"%(REGION_NAME, STYLE_NAME, ZOOM)\n",
    "\n",
    "# try to open the csv in case it already exists\n",
    "try: \n",
    "    df = pd.read_csv(\"maps_metadata.csv\", sep=SEP)\n",
    "except:\n",
    "    # csv doesn't exist, create new dataframe\n",
    "    df = pd.DataFrame(columns=COLUMNS)\n",
    "df = df.set_index(\"MapName\")\n",
    "\n",
    "# check if this map is already in the csv\n",
    "if MAPNAME in df.index.values:\n",
    "    # drop the row\n",
    "    df = df.drop(MAPNAME)\n",
    "\n",
    "# create data array\n",
    "data = {\"MapName\": MAPNAME,\n",
    "        \"Region\" : REGION_NAME, \n",
    "        \"StyleName\" : STYLE_NAME, \n",
    "        \"StyleID\" : STYLE_ID, \n",
    "        \"IsPrivateStyle\" : CUSTOM_TILESET, \n",
    "        \"user\" : USER, \n",
    "        \"LatMin\" : LAT[0], \n",
    "        \"LatMax\" : LAT[1], \n",
    "        \"LonMin\" : LON[0], \n",
    "        \"LonMax\" : LON[1], \n",
    "        \"Zoom\" : ZOOM, \n",
    "        \"TileSize\" : TILESIZE, \n",
    "        \"PixWidth\" : meta[\"PixelSize\"][0], \n",
    "        \"PixHeight\" : meta[\"PixelSize\"][1], \n",
    "        \"PixScaleTop\" : meta[\"ScaleTop\"], \n",
    "        \"PixScaleBottom\" : meta[\"ScaleBottom\"],\n",
    "        \"MeterXMin\" : meta[\"PseudoMercatorExtent\"][0], \n",
    "        \"MeterXMax\" : meta[\"PseudoMercatorExtent\"][1], \n",
    "        \"MeterYMin\" : meta[\"PseudoMercatorExtent\"][2], \n",
    "        \"MeterYMax\" : meta[\"PseudoMercatorExtent\"][3],\n",
    "        \"MapLatMin\" : meta[\"LatLonExtent\"][0], \n",
    "        \"MapLatMax\" : meta[\"LatLonExtent\"][1], \n",
    "        \"MapLonMin\" : meta[\"LatLonExtent\"][2], \n",
    "        \"MapLonMax\" : meta[\"LatLonExtent\"][3],\n",
    "        \"MapPixXMin\" : meta[\"PixelExtent\"][0], \n",
    "        \"MapPixXMax\" : meta[\"PixelExtent\"][1], \n",
    "        \"MapPixYMin\" : meta[\"PixelExtent\"][2], \n",
    "        \"MapPixYMax\" : meta[\"PixelExtent\"][3],\n",
    "        \"SurplusArea\" : meta[\"SurplusArea\"]}#, \n",
    "        #\"description\" : description}\n",
    "\n",
    "# append data array\n",
    "#df = df.append(data, ignore_index=True)\n",
    "df.loc[data[\"MapName\"]] = [data[key] for key in COLUMNS[1:]]\n",
    "\n",
    "# write out csv\n",
    "df.to_csv(\"maps_metadata.csv\", sep=SEP)"
   ]
  }
 ],
 "metadata": {
  "kernelspec": {
   "display_name": "Python 3 (ipykernel)",
   "language": "python",
   "name": "python3"
  },
  "language_info": {
   "codemirror_mode": {
    "name": "ipython",
    "version": 3
   },
   "file_extension": ".py",
   "mimetype": "text/x-python",
   "name": "python",
   "nbconvert_exporter": "python",
   "pygments_lexer": "ipython3",
   "version": "3.10.1"
  }
 },
 "nbformat": 4,
 "nbformat_minor": 5
}
