{
 "cells": [
  {
   "cell_type": "code",
   "execution_count": null,
   "id": "7cf8da69-307b-4eb4-b5a1-f2128f2b6fd8",
   "metadata": {},
   "outputs": [],
   "source": []
  },
  {
   "cell_type": "markdown",
   "id": "43e806e3-0902-4a57-a269-0e24a2465aeb",
   "metadata": {},
   "source": [
    "TODO: implemente dashed lines or just corners"
   ]
  },
  {
   "cell_type": "markdown",
   "id": "8ab382a9-530b-41e7-9ebc-b51f893d87e7",
   "metadata": {
    "tags": []
   },
   "source": [
    "## Imports"
   ]
  },
  {
   "cell_type": "code",
   "execution_count": 1,
   "id": "87106cf8-b893-49de-bb06-54cdae21e13b",
   "metadata": {
    "tags": []
   },
   "outputs": [],
   "source": [
    "# numpy for array manipulations\n",
    "import numpy as np\n",
    "# image manipulating and saving\n",
    "from PIL import Image\n",
    "# more coordinate support\n",
    "import globalmaptiles as gmaptiles\n",
    "# for working with metadata in csv\n",
    "import pandas as pd\n",
    "\n",
    "map_coords = gmaptiles.GlobalMercator(tileSize=512)"
   ]
  },
  {
   "cell_type": "markdown",
   "id": "ff5a69b7-7dc0-47d6-8e78-1f1b2e3adfbc",
   "metadata": {},
   "source": [
    "## Global variables"
   ]
  },
  {
   "cell_type": "code",
   "execution_count": 2,
   "id": "1103ee81-18d2-40c6-a2cb-d180ef4c1519",
   "metadata": {},
   "outputs": [],
   "source": [
    "# style id, STYLE_NAME is used in the name of output files \n",
    "STYLE_NAME = \"nord-light\"\n",
    "#STYLE_NAME = \"nord-dark\"\n",
    "#STYLE_NAME = \"nord-darker\"\n",
    "\n",
    "# descriptive name for region of interest, used in filename for outputfiles\n",
    "REGION_NAME = \"Zurich-zoom\"\n",
    "FOLDER = \"Erasmuskaart/\"\n",
    "# zoomlevel to be used, for more info, see: https://wiki.openstreetmap.org/wiki/Zoom_levels\n",
    "ZOOM = 14\n",
    "# min and max longitude and latitude of the region of interest\n",
    "\n",
    "# size in pixels of 1 tile. Default is 256 unless you did \"louche aanpassing\" in the sourcecode of cartopy\n",
    "TILESIZE = 512\n",
    "\n",
    "# if true, a rectangle is added to the output image displaying the actual region of interest\n",
    "DISPLAY_REGION_OF_INTEREST = True   # yet to be implemented :)\n",
    "# define aditional regions to be displayed on the map\n",
    "LON = (5.95, 10.5)\n",
    "LAT = (45.81, 47.81)\n",
    "#REGIONS = [[*LON, *LAT], [8.460907, 8.712447, 47.263396, 47.406200], [8.477787, 8.603557, 47.334798, 47.406200]]\n",
    "# RGB values of colors to use for boxes\n",
    "#COLORS = [[172,172,172], [191,97,106], [191,97,106]]\n",
    "#REGIONS = [[8.460907, 8.712447, 47.263396, 47.406200]]\n",
    "REGIONS = [[8.477787, 8.603557, 47.334798, 47.406200]]\n",
    "COLORS = [[191,97,106]]\n",
    "LINEWIDTH = 4\n",
    "\n",
    "# you shouldn't need to change these ;)\n",
    "EARTH_CIRCUMFERENCE = 40_075_016.686   # meter"
   ]
  },
  {
   "cell_type": "markdown",
   "id": "c6887368-c165-4c5c-a653-6e250c5e9b27",
   "metadata": {},
   "source": [
    "## Local functions"
   ]
  },
  {
   "cell_type": "code",
   "execution_count": 3,
   "id": "da943cf5-aaf4-42a7-a00a-b61a17c9a303",
   "metadata": {},
   "outputs": [],
   "source": [
    "def LatLonToMapPixel(lat, lon, zoom, map_pixel_origin):\n",
    "    # convert lon-lat to meters\n",
    "    xm, ym = map_coords.LatLonToMeters(lat, lon)\n",
    "    # convert meters to pixel\n",
    "    px, py = map_coords.MetersToPixels(xm, ym, zoom)\n",
    "    mpx = px-map_pixel_origin[0]\n",
    "    mpy = map_pixel_origin[1]-py   # reverse because lat coordinates are in reverse wrt pseudo mercator\n",
    "                                   # might have to be fixed for southern hemisphere, idk\n",
    "    #mpy = py-map_pixel_origin[1]\n",
    "    \n",
    "    return int(np.floor(mpx)), int(np.floor(mpy))"
   ]
  },
  {
   "cell_type": "markdown",
   "id": "ddd33ac1-24b0-4505-81a6-226167d2b038",
   "metadata": {
    "tags": []
   },
   "source": [
    "## Fetch mapdata"
   ]
  },
  {
   "cell_type": "markdown",
   "id": "03a6ad79-a672-4311-b5e4-5d807078a75a",
   "metadata": {},
   "source": [
    "Fetch data from csv"
   ]
  },
  {
   "cell_type": "code",
   "execution_count": 4,
   "id": "c989950c-ca0f-49de-bb11-8c4d6417da28",
   "metadata": {
    "tags": []
   },
   "outputs": [
    {
     "data": {
      "text/plain": [
       "Region                          Zurich-zoom\n",
       "StyleName                        nord-light\n",
       "StyleID           ckylx55c21qne14nvbv5zkksv\n",
       "IsPrivateStyle                         True\n",
       "user                             cubedsheep\n",
       "LatMin                            47.334798\n",
       "LatMax                              47.4062\n",
       "LonMin                             8.477787\n",
       "LonMax                             8.603557\n",
       "Zoom                                     14\n",
       "TileSize                                512\n",
       "PixWidth                               3584\n",
       "PixHeight                              3072\n",
       "PixScaleTop                        3.233269\n",
       "PixScaleBottom                     3.237649\n",
       "MeterXMin                     941704.188473\n",
       "MeterXMax                     958826.082809\n",
       "MeterYMin                    5995109.002463\n",
       "MeterYMax                    6009784.911894\n",
       "MapLatMin                         47.323931\n",
       "MapLatMax                          47.41322\n",
       "MapLonMin                          8.459473\n",
       "MapLonMax                          8.613281\n",
       "MapPixXMin                          4391424\n",
       "MapPixXMax                          4395008\n",
       "MapPixYMin                          5449216\n",
       "MapPixYMax                          5452288\n",
       "SurplusArea                        0.346085\n",
       "Name: Zurich-zoom_nord-light_14, dtype: object"
      ]
     },
     "execution_count": 4,
     "metadata": {},
     "output_type": "execute_result"
    }
   ],
   "source": [
    "FILE_NAME = \"%s_%s_%s\"%(REGION_NAME,STYLE_NAME,ZOOM)\n",
    "SEP = \";\"\n",
    "df = pd.read_csv(\"maps_metadata.csv\", sep=SEP)\n",
    "df = df.set_index(\"MapName\")\n",
    "MAP_DATA = df.loc[FILE_NAME]\n",
    "MAP_DATA"
   ]
  },
  {
   "cell_type": "code",
   "execution_count": 5,
   "id": "02ba6e6b-ceea-4d82-80c7-823f975bcf55",
   "metadata": {},
   "outputs": [],
   "source": [
    "# extract required data\n",
    "LAT = (MAP_DATA[\"LatMin\"], MAP_DATA[\"LatMax\"])\n",
    "LON = (MAP_DATA[\"LonMin\"], MAP_DATA[\"LonMax\"])\n",
    "IMG_SHAPE = (MAP_DATA[\"PixHeight\"], MAP_DATA[\"PixWidth\"])\n",
    "PIX_ORIGIN = (MAP_DATA[\"MapPixXMin\"], MAP_DATA[\"MapPixYMax\"])\n",
    "\n",
    "MAP_SCALE = MAP_DATA[\"PixScaleTop\"]"
   ]
  },
  {
   "cell_type": "markdown",
   "id": "dbcff11f-0180-47d7-869b-945271e5e507",
   "metadata": {},
   "source": [
    "## Load map image and add regions"
   ]
  },
  {
   "cell_type": "code",
   "execution_count": 6,
   "id": "be2e6e9b-c731-40ff-9db0-b5241dd4551b",
   "metadata": {},
   "outputs": [],
   "source": [
    "# load image\n",
    "image = Image.open(FOLDER+FILE_NAME+\".png\")\n",
    "# also get representation as numpy array for easier pixel manipulations\n",
    "img_arr = np.array(image)"
   ]
  },
  {
   "cell_type": "markdown",
   "id": "440c2502-dbcf-4680-ba3e-528b3bf9716e",
   "metadata": {},
   "source": [
    "Convert coordinates of regions to pixel indicies on map"
   ]
  },
  {
   "cell_type": "code",
   "execution_count": 7,
   "id": "a28f1cdb-c72a-443e-be33-42a63979f4f8",
   "metadata": {},
   "outputs": [],
   "source": [
    "pixel_regions = []\n",
    "for region in REGIONS:\n",
    "    pixel1 = LatLonToMapPixel(region[3], region[1], ZOOM, PIX_ORIGIN)\n",
    "    pixel2 = LatLonToMapPixel(region[2], region[0], ZOOM, PIX_ORIGIN)\n",
    "    pixel_regions.append([pixel2[0],pixel1[0],pixel1[1],pixel2[1]])"
   ]
  },
  {
   "cell_type": "markdown",
   "id": "7755a989-3571-478b-9f2f-8cc8cdea61fd",
   "metadata": {},
   "source": [
    "Add rectangles for regions"
   ]
  },
  {
   "cell_type": "code",
   "execution_count": 8,
   "id": "bda9dfa3-a331-4586-bebe-9676b3103bc8",
   "metadata": {},
   "outputs": [],
   "source": [
    "for i in range(len(REGIONS)):\n",
    "    region = pixel_regions[i]\n",
    "    color = COLORS[i]\n",
    "    rows = (region[2],region[3]+1)\n",
    "    cols = (region[0],region[1]+1)\n",
    "    # draw vertical lines, draw outside the box\n",
    "    img_arr[(rows[0]-LINEWIDTH):rows[0],(cols[0]-LINEWIDTH):(cols[1]+LINEWIDTH)] = color\n",
    "    img_arr[rows[1]:(rows[1]+LINEWIDTH),(cols[0]-LINEWIDTH):(cols[1]+LINEWIDTH)] = color\n",
    "    img_arr[(rows[0]-LINEWIDTH):(rows[1]+LINEWIDTH),(cols[0]-LINEWIDTH):cols[0]] = color\n",
    "    img_arr[(rows[0]-LINEWIDTH):(rows[1]+LINEWIDTH),cols[1]:(cols[1]+LINEWIDTH)] = color"
   ]
  },
  {
   "cell_type": "markdown",
   "id": "fdebed1f-1255-4eb7-9a69-489faf6c5adb",
   "metadata": {},
   "source": [
    "convert array back to image and save it"
   ]
  },
  {
   "cell_type": "code",
   "execution_count": 9,
   "id": "1f637fd5-02cb-40e0-9eb4-2d64c9bee730",
   "metadata": {},
   "outputs": [],
   "source": [
    "region_image = Image.fromarray(img_arr)\n",
    "region_image.save(\"%s-regions.png\"%FILE_NAME, \"png\")"
   ]
  }
 ],
 "metadata": {
  "kernelspec": {
   "display_name": "Python 3 (ipykernel)",
   "language": "python",
   "name": "python3"
  },
  "language_info": {
   "codemirror_mode": {
    "name": "ipython",
    "version": 3
   },
   "file_extension": ".py",
   "mimetype": "text/x-python",
   "name": "python",
   "nbconvert_exporter": "python",
   "pygments_lexer": "ipython3",
   "version": "3.10.1"
  }
 },
 "nbformat": 4,
 "nbformat_minor": 5
}
